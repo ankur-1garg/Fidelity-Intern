{
 "cells": [
  {
   "cell_type": "code",
   "execution_count": 5,
   "metadata": {},
   "outputs": [
    {
     "ename": "SyntaxError",
     "evalue": "invalid syntax (1287362352.py, line 2)",
     "output_type": "error",
     "traceback": [
      "\u001b[1;36m  Cell \u001b[1;32mIn[5], line 2\u001b[1;36m\u001b[0m\n\u001b[1;33m    import snowflake.connector import connect\u001b[0m\n\u001b[1;37m                               ^\u001b[0m\n\u001b[1;31mSyntaxError\u001b[0m\u001b[1;31m:\u001b[0m invalid syntax\n"
     ]
    }
   ],
   "source": [
    "import pandas as pd\n",
    "import snowflake.connector import connect\n",
    "from snowflake.connector.pandas_tools import write_pandas\n",
    "\n",
    "# Snowflake connection parameters\n",
    "conn = connect(\n",
    "    account='ut20337.ap-southeast-1',\n",
    "    user='Ankur',\n",
    "    password='x16bTJawBrXFJb4VyE',\n",
    "    warehouse='compute_wh',\n",
    "    database='trial_db',\n",
    "    schema='trial_scma'\n",
    ")\n",
    "\n",
    "# Execute your SQL query\n",
    "query = \"\"\"\n",
    "SELECT FIRST_NAME \n",
    "FROM TRIAL_SCMA.CUSTOMER\n",
    "ORDER BY LAST_NAME ASC\n",
    "\"\"\"\n",
    "\n",
    "# Read data into pandas DataFrame\n",
    "df = pd.read_sql(query, conn)\n",
    "\n",
    "# Display the first few rows\n",
    "print(df.head())\n",
    "\n",
    "# Optional: Save to CSV\n",
    "df.to_csv('customer_data.csv', index=False)\n",
    "\n",
    "# Close the connection\n",
    "conn.close()"
   ]
  }
 ],
 "metadata": {
  "kernelspec": {
   "display_name": "prj_snowflake_env",
   "language": "python",
   "name": "python3"
  },
  "language_info": {
   "codemirror_mode": {
    "name": "ipython",
    "version": 3
   },
   "file_extension": ".py",
   "mimetype": "text/x-python",
   "name": "python",
   "nbconvert_exporter": "python",
   "pygments_lexer": "ipython3",
   "version": "3.13.2"
  }
 },
 "nbformat": 4,
 "nbformat_minor": 2
}
