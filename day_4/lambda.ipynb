{
 "cells": [
  {
   "cell_type": "code",
   "execution_count": 2,
   "metadata": {},
   "outputs": [
    {
     "name": "stdout",
     "output_type": "stream",
     "text": [
      "7\n"
     ]
    },
    {
     "data": {
      "text/plain": [
       "function"
      ]
     },
     "execution_count": 2,
     "metadata": {},
     "output_type": "execute_result"
    }
   ],
   "source": [
    "add = lambda x,y:x+y\n",
    "print(add(3,4))  \n",
    "type(add)"
   ]
  },
  {
   "cell_type": "code",
   "execution_count": 4,
   "metadata": {},
   "outputs": [
    {
     "name": "stdout",
     "output_type": "stream",
     "text": [
      "[22, 42, 62, 28.64, 130]\n"
     ]
    }
   ],
   "source": [
    "#map function to double each element in the list\n",
    "l=[11,21,31,14.32,65]\n",
    "def double(x):\n",
    "    return 2*x\n",
    "\n",
    "double_list = list(map(double,l))\n",
    "print(double_list)\n"
   ]
  },
  {
   "cell_type": "code",
   "execution_count": 5,
   "metadata": {},
   "outputs": [
    {
     "name": "stdout",
     "output_type": "stream",
     "text": [
      "[21, 31, 65]\n"
     ]
    }
   ],
   "source": [
    "#filter function to filter out the elements which are greater than 18\n",
    "l=[11,21,31,14.32,65]\n",
    "def greater_than_18(x):\n",
    "    return x>18\n",
    "\n",
    "filtered_list = list(filter(greater_than_18,l))\n",
    "print(filtered_list)"
   ]
  },
  {
   "cell_type": "code",
   "execution_count": 8,
   "metadata": {},
   "outputs": [
    {
     "name": "stdout",
     "output_type": "stream",
     "text": [
      "1\n"
     ]
    }
   ],
   "source": [
    "#collection and defaultdict\n",
    "import collections \n",
    "from collections import  defaultdict\n",
    "def default_value():\n",
    "    return 'Not Present'\n",
    "    \n",
    "d1=defaultdict(default_value)\n",
    "d1['a']=1\n",
    "d1['b']=2\n",
    "print(d1['a'])"
   ]
  }
 ],
 "metadata": {
  "kernelspec": {
   "display_name": "Python 3",
   "language": "python",
   "name": "python3"
  },
  "language_info": {
   "codemirror_mode": {
    "name": "ipython",
    "version": 3
   },
   "file_extension": ".py",
   "mimetype": "text/x-python",
   "name": "python",
   "nbconvert_exporter": "python",
   "pygments_lexer": "ipython3",
   "version": "3.12.8"
  }
 },
 "nbformat": 4,
 "nbformat_minor": 2
}
