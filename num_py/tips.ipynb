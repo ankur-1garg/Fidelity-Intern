{
 "cells": [
  {
   "cell_type": "code",
   "execution_count": 19,
   "metadata": {},
   "outputs": [
    {
     "name": "stdout",
     "output_type": "stream",
     "text": [
      "Requirement already satisfied: numpy in c:\\users\\kiit\\appdata\\local\\programs\\python\\python311\\lib\\site-packages (2.2.3)\n",
      "Note: you may need to restart the kernel to use updated packages.\n"
     ]
    },
    {
     "name": "stderr",
     "output_type": "stream",
     "text": [
      "\n",
      "[notice] A new release of pip is available: 23.1.2 -> 25.0.1\n",
      "[notice] To update, run: python.exe -m pip install --upgrade pip\n"
     ]
    }
   ],
   "source": [
    "pip install numpy"
   ]
  },
  {
   "cell_type": "code",
   "execution_count": 20,
   "metadata": {},
   "outputs": [
    {
     "name": "stdout",
     "output_type": "stream",
     "text": [
      "Requirement already satisfied: pandas in c:\\users\\kiit\\appdata\\local\\programs\\python\\python311\\lib\\site-packages (2.2.3)Note: you may need to restart the kernel to use updated packages.\n",
      "\n",
      "Requirement already satisfied: numpy>=1.23.2 in c:\\users\\kiit\\appdata\\local\\programs\\python\\python311\\lib\\site-packages (from pandas) (2.2.3)\n",
      "Requirement already satisfied: python-dateutil>=2.8.2 in c:\\users\\kiit\\appdata\\roaming\\python\\python311\\site-packages (from pandas) (2.9.0.post0)\n",
      "Requirement already satisfied: pytz>=2020.1 in c:\\users\\kiit\\appdata\\local\\programs\\python\\python311\\lib\\site-packages (from pandas) (2025.1)\n",
      "Requirement already satisfied: tzdata>=2022.7 in c:\\users\\kiit\\appdata\\local\\programs\\python\\python311\\lib\\site-packages (from pandas) (2025.1)\n",
      "Requirement already satisfied: six>=1.5 in c:\\users\\kiit\\appdata\\roaming\\python\\python311\\site-packages (from python-dateutil>=2.8.2->pandas) (1.17.0)\n"
     ]
    },
    {
     "name": "stderr",
     "output_type": "stream",
     "text": [
      "\n",
      "[notice] A new release of pip is available: 23.1.2 -> 25.0.1\n",
      "[notice] To update, run: python.exe -m pip install --upgrade pip\n"
     ]
    }
   ],
   "source": [
    "pip install pandas"
   ]
  },
  {
   "cell_type": "code",
   "execution_count": 21,
   "metadata": {},
   "outputs": [],
   "source": [
    "import numpy as np\n",
    "import pandas as pd\n",
    "from IPython.core.interactiveshell import InteractiveShell\n",
    "InteractiveShell.ast_node_interactivity = \"all\""
   ]
  },
  {
   "cell_type": "code",
   "execution_count": 22,
   "metadata": {},
   "outputs": [],
   "source": [
    "df=pd.read_csv('tips.csv')"
   ]
  },
  {
   "cell_type": "code",
   "execution_count": 23,
   "metadata": {},
   "outputs": [
    {
     "name": "stdout",
     "output_type": "stream",
     "text": [
      "<class 'pandas.core.frame.DataFrame'>\n",
      "RangeIndex: 244 entries, 0 to 243\n",
      "Data columns (total 7 columns):\n",
      " #   Column      Non-Null Count  Dtype  \n",
      "---  ------      --------------  -----  \n",
      " 0   total_bill  244 non-null    float64\n",
      " 1   tip         244 non-null    float64\n",
      " 2   sex         244 non-null    object \n",
      " 3   smoker      244 non-null    object \n",
      " 4   day         244 non-null    object \n",
      " 5   time        244 non-null    object \n",
      " 6   size        244 non-null    int64  \n",
      "dtypes: float64(2), int64(1), object(4)\n",
      "memory usage: 13.5+ KB\n"
     ]
    },
    {
     "data": {
      "text/html": [
       "<div>\n",
       "<style scoped>\n",
       "    .dataframe tbody tr th:only-of-type {\n",
       "        vertical-align: middle;\n",
       "    }\n",
       "\n",
       "    .dataframe tbody tr th {\n",
       "        vertical-align: top;\n",
       "    }\n",
       "\n",
       "    .dataframe thead th {\n",
       "        text-align: right;\n",
       "    }\n",
       "</style>\n",
       "<table border=\"1\" class=\"dataframe\">\n",
       "  <thead>\n",
       "    <tr style=\"text-align: right;\">\n",
       "      <th></th>\n",
       "      <th>total_bill</th>\n",
       "      <th>tip</th>\n",
       "      <th>sex</th>\n",
       "      <th>smoker</th>\n",
       "      <th>day</th>\n",
       "      <th>time</th>\n",
       "      <th>size</th>\n",
       "    </tr>\n",
       "  </thead>\n",
       "  <tbody>\n",
       "    <tr>\n",
       "      <th>0</th>\n",
       "      <td>16.99</td>\n",
       "      <td>1.01</td>\n",
       "      <td>Female</td>\n",
       "      <td>No</td>\n",
       "      <td>Sun</td>\n",
       "      <td>Dinner</td>\n",
       "      <td>2</td>\n",
       "    </tr>\n",
       "    <tr>\n",
       "      <th>1</th>\n",
       "      <td>10.34</td>\n",
       "      <td>1.66</td>\n",
       "      <td>Male</td>\n",
       "      <td>No</td>\n",
       "      <td>Sun</td>\n",
       "      <td>Dinner</td>\n",
       "      <td>3</td>\n",
       "    </tr>\n",
       "    <tr>\n",
       "      <th>2</th>\n",
       "      <td>21.01</td>\n",
       "      <td>3.50</td>\n",
       "      <td>Male</td>\n",
       "      <td>No</td>\n",
       "      <td>Sun</td>\n",
       "      <td>Dinner</td>\n",
       "      <td>3</td>\n",
       "    </tr>\n",
       "    <tr>\n",
       "      <th>3</th>\n",
       "      <td>23.68</td>\n",
       "      <td>3.31</td>\n",
       "      <td>Male</td>\n",
       "      <td>No</td>\n",
       "      <td>Sun</td>\n",
       "      <td>Dinner</td>\n",
       "      <td>2</td>\n",
       "    </tr>\n",
       "    <tr>\n",
       "      <th>4</th>\n",
       "      <td>24.59</td>\n",
       "      <td>3.61</td>\n",
       "      <td>Female</td>\n",
       "      <td>No</td>\n",
       "      <td>Sun</td>\n",
       "      <td>Dinner</td>\n",
       "      <td>4</td>\n",
       "    </tr>\n",
       "  </tbody>\n",
       "</table>\n",
       "</div>"
      ],
      "text/plain": [
       "   total_bill   tip     sex smoker  day    time  size\n",
       "0       16.99  1.01  Female     No  Sun  Dinner     2\n",
       "1       10.34  1.66    Male     No  Sun  Dinner     3\n",
       "2       21.01  3.50    Male     No  Sun  Dinner     3\n",
       "3       23.68  3.31    Male     No  Sun  Dinner     2\n",
       "4       24.59  3.61  Female     No  Sun  Dinner     4"
      ]
     },
     "execution_count": 23,
     "metadata": {},
     "output_type": "execute_result"
    }
   ],
   "source": [
    "df.info()\n",
    "df.head()"
   ]
  },
  {
   "cell_type": "code",
   "execution_count": 24,
   "metadata": {},
   "outputs": [
    {
     "data": {
      "text/plain": [
       "sex\n",
       "Female    2.833448\n",
       "Male      3.089618\n",
       "Name: tip, dtype: float64"
      ]
     },
     "execution_count": 24,
     "metadata": {},
     "output_type": "execute_result"
    },
    {
     "data": {
      "text/html": [
       "<div>\n",
       "<style scoped>\n",
       "    .dataframe tbody tr th:only-of-type {\n",
       "        vertical-align: middle;\n",
       "    }\n",
       "\n",
       "    .dataframe tbody tr th {\n",
       "        vertical-align: top;\n",
       "    }\n",
       "\n",
       "    .dataframe thead th {\n",
       "        text-align: right;\n",
       "    }\n",
       "</style>\n",
       "<table border=\"1\" class=\"dataframe\">\n",
       "  <thead>\n",
       "    <tr style=\"text-align: right;\">\n",
       "      <th></th>\n",
       "      <th>mean</th>\n",
       "      <th>std</th>\n",
       "      <th>count</th>\n",
       "    </tr>\n",
       "    <tr>\n",
       "      <th>sex</th>\n",
       "      <th></th>\n",
       "      <th></th>\n",
       "      <th></th>\n",
       "    </tr>\n",
       "  </thead>\n",
       "  <tbody>\n",
       "    <tr>\n",
       "      <th>Female</th>\n",
       "      <td>2.833448</td>\n",
       "      <td>1.159495</td>\n",
       "      <td>87</td>\n",
       "    </tr>\n",
       "    <tr>\n",
       "      <th>Male</th>\n",
       "      <td>3.089618</td>\n",
       "      <td>1.489102</td>\n",
       "      <td>157</td>\n",
       "    </tr>\n",
       "  </tbody>\n",
       "</table>\n",
       "</div>"
      ],
      "text/plain": [
       "            mean       std  count\n",
       "sex                              \n",
       "Female  2.833448  1.159495     87\n",
       "Male    3.089618  1.489102    157"
      ]
     },
     "execution_count": 24,
     "metadata": {},
     "output_type": "execute_result"
    }
   ],
   "source": [
    "gender_tips = df.groupby('sex')['tip'].mean()\n",
    "gender_tips\n",
    "gender_stats = df.groupby('sex')['tip'].agg(['mean', 'std', 'count'])\n",
    "gender_stats"
   ]
  },
  {
   "cell_type": "code",
   "execution_count": null,
   "metadata": {},
   "outputs": [],
   "source": []
  },
  {
   "cell_type": "code",
   "execution_count": 25,
   "metadata": {},
   "outputs": [],
   "source": [
    "smoker_tips = df.groupby('smoker')['tip'].mean()"
   ]
  },
  {
   "cell_type": "code",
   "execution_count": 26,
   "metadata": {},
   "outputs": [
    {
     "data": {
      "text/plain": [
       "smoker\n",
       "No     2.991854\n",
       "Yes    3.008710\n",
       "Name: tip, dtype: float64"
      ]
     },
     "execution_count": 26,
     "metadata": {},
     "output_type": "execute_result"
    }
   ],
   "source": [
    "smoker_tips"
   ]
  },
  {
   "cell_type": "code",
   "execution_count": 27,
   "metadata": {},
   "outputs": [
    {
     "data": {
      "text/html": [
       "<div>\n",
       "<style scoped>\n",
       "    .dataframe tbody tr th:only-of-type {\n",
       "        vertical-align: middle;\n",
       "    }\n",
       "\n",
       "    .dataframe tbody tr th {\n",
       "        vertical-align: top;\n",
       "    }\n",
       "\n",
       "    .dataframe thead th {\n",
       "        text-align: right;\n",
       "    }\n",
       "</style>\n",
       "<table border=\"1\" class=\"dataframe\">\n",
       "  <thead>\n",
       "    <tr style=\"text-align: right;\">\n",
       "      <th></th>\n",
       "      <th>mean</th>\n",
       "      <th>std</th>\n",
       "      <th>count</th>\n",
       "    </tr>\n",
       "    <tr>\n",
       "      <th>smoker</th>\n",
       "      <th></th>\n",
       "      <th></th>\n",
       "      <th></th>\n",
       "    </tr>\n",
       "  </thead>\n",
       "  <tbody>\n",
       "    <tr>\n",
       "      <th>No</th>\n",
       "      <td>2.991854</td>\n",
       "      <td>1.377190</td>\n",
       "      <td>151</td>\n",
       "    </tr>\n",
       "    <tr>\n",
       "      <th>Yes</th>\n",
       "      <td>3.008710</td>\n",
       "      <td>1.401468</td>\n",
       "      <td>93</td>\n",
       "    </tr>\n",
       "  </tbody>\n",
       "</table>\n",
       "</div>"
      ],
      "text/plain": [
       "            mean       std  count\n",
       "smoker                           \n",
       "No      2.991854  1.377190    151\n",
       "Yes     3.008710  1.401468     93"
      ]
     },
     "execution_count": 27,
     "metadata": {},
     "output_type": "execute_result"
    }
   ],
   "source": [
    "smoker_stats = df.groupby('smoker')['tip'].agg(['mean', 'std', 'count'])\n",
    "smoker_stats"
   ]
  },
  {
   "cell_type": "code",
   "execution_count": 28,
   "metadata": {},
   "outputs": [
    {
     "data": {
      "text/html": [
       "<div>\n",
       "<style scoped>\n",
       "    .dataframe tbody tr th:only-of-type {\n",
       "        vertical-align: middle;\n",
       "    }\n",
       "\n",
       "    .dataframe tbody tr th {\n",
       "        vertical-align: top;\n",
       "    }\n",
       "\n",
       "    .dataframe thead tr th {\n",
       "        text-align: left;\n",
       "    }\n",
       "\n",
       "    .dataframe thead tr:last-of-type th {\n",
       "        text-align: right;\n",
       "    }\n",
       "</style>\n",
       "<table border=\"1\" class=\"dataframe\">\n",
       "  <thead>\n",
       "    <tr>\n",
       "      <th></th>\n",
       "      <th colspan=\"3\" halign=\"left\">tip</th>\n",
       "    </tr>\n",
       "    <tr>\n",
       "      <th></th>\n",
       "      <th>mean</th>\n",
       "      <th>count</th>\n",
       "      <th>std</th>\n",
       "    </tr>\n",
       "    <tr>\n",
       "      <th>size</th>\n",
       "      <th></th>\n",
       "      <th></th>\n",
       "      <th></th>\n",
       "    </tr>\n",
       "  </thead>\n",
       "  <tbody>\n",
       "    <tr>\n",
       "      <th>1</th>\n",
       "      <td>1.44</td>\n",
       "      <td>4</td>\n",
       "      <td>0.51</td>\n",
       "    </tr>\n",
       "    <tr>\n",
       "      <th>2</th>\n",
       "      <td>2.58</td>\n",
       "      <td>156</td>\n",
       "      <td>0.99</td>\n",
       "    </tr>\n",
       "    <tr>\n",
       "      <th>3</th>\n",
       "      <td>3.39</td>\n",
       "      <td>38</td>\n",
       "      <td>1.56</td>\n",
       "    </tr>\n",
       "    <tr>\n",
       "      <th>4</th>\n",
       "      <td>4.14</td>\n",
       "      <td>37</td>\n",
       "      <td>1.64</td>\n",
       "    </tr>\n",
       "    <tr>\n",
       "      <th>5</th>\n",
       "      <td>4.03</td>\n",
       "      <td>5</td>\n",
       "      <td>1.44</td>\n",
       "    </tr>\n",
       "    <tr>\n",
       "      <th>6</th>\n",
       "      <td>5.22</td>\n",
       "      <td>4</td>\n",
       "      <td>1.05</td>\n",
       "    </tr>\n",
       "  </tbody>\n",
       "</table>\n",
       "</div>"
      ],
      "text/plain": [
       "       tip            \n",
       "      mean count   std\n",
       "size                  \n",
       "1     1.44     4  0.51\n",
       "2     2.58   156  0.99\n",
       "3     3.39    38  1.56\n",
       "4     4.14    37  1.64\n",
       "5     4.03     5  1.44\n",
       "6     5.22     4  1.05"
      ]
     },
     "execution_count": 28,
     "metadata": {},
     "output_type": "execute_result"
    }
   ],
   "source": [
    "size_stats = df.groupby('size').agg({\n",
    "    'tip': ['mean', 'count', 'std']\n",
    "}).round(2)\n",
    "size_stats"
   ]
  },
  {
   "cell_type": "code",
   "execution_count": 29,
   "metadata": {},
   "outputs": [
    {
     "data": {
      "text/plain": [
       "np.float64(0.4892987752303579)"
      ]
     },
     "execution_count": 29,
     "metadata": {},
     "output_type": "execute_result"
    }
   ],
   "source": [
    "correlation = df['size'].corr(df['tip'])\n",
    "correlation\n"
   ]
  },
  {
   "cell_type": "code",
   "execution_count": 30,
   "metadata": {},
   "outputs": [],
   "source": [
    "df['smoker'] = df['smoker'].apply(lambda x: 1 if x == 'Yes' else 0)\n"
   ]
  },
  {
   "cell_type": "code",
   "execution_count": 31,
   "metadata": {},
   "outputs": [
    {
     "data": {
      "text/html": [
       "<div>\n",
       "<style scoped>\n",
       "    .dataframe tbody tr th:only-of-type {\n",
       "        vertical-align: middle;\n",
       "    }\n",
       "\n",
       "    .dataframe tbody tr th {\n",
       "        vertical-align: top;\n",
       "    }\n",
       "\n",
       "    .dataframe thead th {\n",
       "        text-align: right;\n",
       "    }\n",
       "</style>\n",
       "<table border=\"1\" class=\"dataframe\">\n",
       "  <thead>\n",
       "    <tr style=\"text-align: right;\">\n",
       "      <th></th>\n",
       "      <th>total_bill</th>\n",
       "      <th>tip</th>\n",
       "      <th>sex</th>\n",
       "      <th>smoker</th>\n",
       "      <th>day</th>\n",
       "      <th>time</th>\n",
       "      <th>size</th>\n",
       "    </tr>\n",
       "  </thead>\n",
       "  <tbody>\n",
       "    <tr>\n",
       "      <th>0</th>\n",
       "      <td>16.99</td>\n",
       "      <td>1.01</td>\n",
       "      <td>Female</td>\n",
       "      <td>0</td>\n",
       "      <td>Sun</td>\n",
       "      <td>Dinner</td>\n",
       "      <td>2</td>\n",
       "    </tr>\n",
       "    <tr>\n",
       "      <th>1</th>\n",
       "      <td>10.34</td>\n",
       "      <td>1.66</td>\n",
       "      <td>Male</td>\n",
       "      <td>0</td>\n",
       "      <td>Sun</td>\n",
       "      <td>Dinner</td>\n",
       "      <td>3</td>\n",
       "    </tr>\n",
       "    <tr>\n",
       "      <th>2</th>\n",
       "      <td>21.01</td>\n",
       "      <td>3.50</td>\n",
       "      <td>Male</td>\n",
       "      <td>0</td>\n",
       "      <td>Sun</td>\n",
       "      <td>Dinner</td>\n",
       "      <td>3</td>\n",
       "    </tr>\n",
       "    <tr>\n",
       "      <th>3</th>\n",
       "      <td>23.68</td>\n",
       "      <td>3.31</td>\n",
       "      <td>Male</td>\n",
       "      <td>0</td>\n",
       "      <td>Sun</td>\n",
       "      <td>Dinner</td>\n",
       "      <td>2</td>\n",
       "    </tr>\n",
       "    <tr>\n",
       "      <th>4</th>\n",
       "      <td>24.59</td>\n",
       "      <td>3.61</td>\n",
       "      <td>Female</td>\n",
       "      <td>0</td>\n",
       "      <td>Sun</td>\n",
       "      <td>Dinner</td>\n",
       "      <td>4</td>\n",
       "    </tr>\n",
       "  </tbody>\n",
       "</table>\n",
       "</div>"
      ],
      "text/plain": [
       "   total_bill   tip     sex  smoker  day    time  size\n",
       "0       16.99  1.01  Female       0  Sun  Dinner     2\n",
       "1       10.34  1.66    Male       0  Sun  Dinner     3\n",
       "2       21.01  3.50    Male       0  Sun  Dinner     3\n",
       "3       23.68  3.31    Male       0  Sun  Dinner     2\n",
       "4       24.59  3.61  Female       0  Sun  Dinner     4"
      ]
     },
     "execution_count": 31,
     "metadata": {},
     "output_type": "execute_result"
    }
   ],
   "source": [
    "df.head()"
   ]
  },
  {
   "cell_type": "code",
   "execution_count": 32,
   "metadata": {},
   "outputs": [
    {
     "name": "stdout",
     "output_type": "stream",
     "text": [
      "Requirement already satisfied: sqlalchemy>=2.0 in c:\\users\\kiit\\appdata\\local\\programs\\python\\python311\\lib\\site-packages (2.0.38)\n",
      "Requirement already satisfied: greenlet!=0.4.17 in c:\\users\\kiit\\appdata\\local\\programs\\python\\python311\\lib\\site-packages (from sqlalchemy>=2.0) (3.1.1)\n",
      "Requirement already satisfied: typing-extensions>=4.6.0 in c:\\users\\kiit\\appdata\\roaming\\python\\python311\\site-packages (from sqlalchemy>=2.0) (4.12.2)\n",
      "Note: you may need to restart the kernel to use updated packages.\n"
     ]
    },
    {
     "name": "stderr",
     "output_type": "stream",
     "text": [
      "\n",
      "[notice] A new release of pip is available: 23.1.2 -> 25.0.1\n",
      "[notice] To update, run: python.exe -m pip install --upgrade pip\n"
     ]
    }
   ],
   "source": [
    "pip install \"sqlalchemy>=2.0\"\n"
   ]
  },
  {
   "cell_type": "code",
   "execution_count": 33,
   "metadata": {},
   "outputs": [
    {
     "name": "stdout",
     "output_type": "stream",
     "text": [
      "Requirement already satisfied: mysql-connector-python in c:\\users\\kiit\\appdata\\local\\programs\\python\\python311\\lib\\site-packages (9.2.0)\n",
      "Note: you may need to restart the kernel to use updated packages.\n"
     ]
    },
    {
     "name": "stderr",
     "output_type": "stream",
     "text": [
      "\n",
      "[notice] A new release of pip is available: 23.1.2 -> 25.0.1\n",
      "[notice] To update, run: python.exe -m pip install --upgrade pip\n"
     ]
    }
   ],
   "source": [
    "pip install mysql-connector-python"
   ]
  },
  {
   "cell_type": "code",
   "execution_count": 34,
   "metadata": {},
   "outputs": [
    {
     "name": "stdout",
     "output_type": "stream",
     "text": [
      "Requirement already satisfied: pymysql in c:\\users\\kiit\\appdata\\local\\programs\\python\\python311\\lib\\site-packages (1.1.1)Note: you may need to restart the kernel to use updated packages.\n",
      "\n"
     ]
    },
    {
     "name": "stderr",
     "output_type": "stream",
     "text": [
      "\n",
      "[notice] A new release of pip is available: 23.1.2 -> 25.0.1\n",
      "[notice] To update, run: python.exe -m pip install --upgrade pip\n"
     ]
    }
   ],
   "source": [
    "pip install pymysql"
   ]
  },
  {
   "cell_type": "code",
   "execution_count": 35,
   "metadata": {},
   "outputs": [
    {
     "name": "stdout",
     "output_type": "stream",
     "text": [
      "\n",
      "First 5 rows from the table:\n",
      "(16.99, 1.01, 'Female', 'No', 'Sun', 'Dinner', 2)\n",
      "(10.34, 1.66, 'Male', 'No', 'Sun', 'Dinner', 3)\n",
      "(21.01, 3.5, 'Male', 'No', 'Sun', 'Dinner', 3)\n",
      "(23.68, 3.31, 'Male', 'No', 'Sun', 'Dinner', 2)\n",
      "(24.59, 3.61, 'Female', 'No', 'Sun', 'Dinner', 4)\n"
     ]
    },
    {
     "data": {
      "text/plain": [
       "True"
      ]
     },
     "execution_count": 35,
     "metadata": {},
     "output_type": "execute_result"
    }
   ],
   "source": [
    "import pandas as pd\n",
    "import mysql.connector\n",
    "from urllib.parse import quote_plus\n",
    "\n",
    "# Create database connection\n",
    "db = mysql.connector.connect(\n",
    "    host=\"localhost\",\n",
    "    user=\"root\",\n",
    "    password=\"Ankur@23\",\n",
    "    database=\"fil\"\n",
    ")\n",
    "\n",
    "# Create cursor\n",
    "cursor = db.cursor()\n",
    "\n",
    "try:\n",
    "    # Load the CSV data\n",
    "    df = pd.read_csv('tips.csv')\n",
    "    \n",
    "    # Create the table\n",
    "    cursor.execute(\"DROP TABLE IF EXISTS tips_table\")\n",
    "    create_table = \"\"\"\n",
    "    CREATE TABLE tips_table (\n",
    "        total_bill FLOAT,\n",
    "        tip FLOAT,\n",
    "        sex VARCHAR(10),\n",
    "        smoker VARCHAR(5),\n",
    "        day VARCHAR(10),\n",
    "        time VARCHAR(10),\n",
    "        size INT\n",
    "    )\n",
    "    \"\"\"\n",
    "    cursor.execute(create_table)\n",
    "    \n",
    "    # Insert data\n",
    "    for _, row in df.iterrows():\n",
    "        sql = \"INSERT INTO tips_table VALUES (%s, %s, %s, %s, %s, %s, %s)\"\n",
    "        cursor.execute(sql, tuple(row))\n",
    "    \n",
    "    # Commit the changes\n",
    "    db.commit()\n",
    "    \n",
    "    # Verify the data\n",
    "    cursor.execute(\"SELECT * FROM tips_table LIMIT 5\")\n",
    "    print(\"\\nFirst 5 rows from the table:\")\n",
    "    for row in cursor.fetchall():\n",
    "        print(row)\n",
    "\n",
    "except mysql.connector.Error as err:\n",
    "    print(f\"Error: {err}\")\n",
    "\n",
    "finally:\n",
    "    # Close connections\n",
    "    cursor.close()\n",
    "    db.close()"
   ]
  },
  {
   "cell_type": "code",
   "execution_count": 36,
   "metadata": {},
   "outputs": [
    {
     "ename": "NameError",
     "evalue": "name 'get_engine' is not defined",
     "output_type": "error",
     "traceback": [
      "\u001b[1;31m---------------------------------------------------------------------------\u001b[0m",
      "\u001b[1;31mNameError\u001b[0m                                 Traceback (most recent call last)",
      "Cell \u001b[1;32mIn[36], line 2\u001b[0m\n\u001b[0;32m      1\u001b[0m \u001b[38;5;66;03m# Get MySQL connection\u001b[39;00m\n\u001b[1;32m----> 2\u001b[0m engine \u001b[38;5;241m=\u001b[39m \u001b[43mget_engine\u001b[49m()\n\u001b[0;32m      4\u001b[0m \u001b[38;5;28;01mif\u001b[39;00m engine:\n\u001b[0;32m      5\u001b[0m     \u001b[38;5;66;03m# ✅ Check table data\u001b[39;00m\n\u001b[0;32m      6\u001b[0m     df \u001b[38;5;241m=\u001b[39m pd\u001b[38;5;241m.\u001b[39mread_sql(\u001b[38;5;124m\"\u001b[39m\u001b[38;5;124mSELECT * FROM tips_table LIMIT 5\u001b[39m\u001b[38;5;124m\"\u001b[39m, engine)\n",
      "\u001b[1;31mNameError\u001b[0m: name 'get_engine' is not defined"
     ]
    }
   ],
   "source": [
    "# Get MySQL connection\n",
    "engine = get_engine()\n",
    "\n",
    "if engine:\n",
    "    # ✅ Check table data\n",
    "    df = pd.read_sql(\"SELECT * FROM tips_table LIMIT 5\", engine)\n",
    "    print(df)\n",
    "\n",
    "    # Close connection\n",
    "    close_engine(engine)\n"
   ]
  },
  {
   "cell_type": "code",
   "execution_count": null,
   "metadata": {},
   "outputs": [
    {
     "name": "stdout",
     "output_type": "stream",
     "text": [
      "Requirement already satisfied: openpyxl in c:\\users\\kiit\\appdata\\local\\programs\\python\\python311\\lib\\site-packages (3.1.5)\n",
      "Requirement already satisfied: et-xmlfile in c:\\users\\kiit\\appdata\\local\\programs\\python\\python311\\lib\\site-packages (from openpyxl) (2.0.0)\n",
      "Note: you may need to restart the kernel to use updated packages.\n"
     ]
    },
    {
     "name": "stderr",
     "output_type": "stream",
     "text": [
      "\n",
      "[notice] A new release of pip is available: 23.1.2 -> 25.0.1\n",
      "[notice] To update, run: python.exe -m pip install --upgrade pip\n"
     ]
    }
   ],
   "source": [
    "pip install openpyxl\n"
   ]
  },
  {
   "cell_type": "code",
   "execution_count": null,
   "metadata": {},
   "outputs": [],
   "source": [
    "import openpyxl\n",
    "from openpyxl import Workbook\n",
    "wb_obj = openpyxl.load_workbook('sample1.xlsx')"
   ]
  },
  {
   "cell_type": "code",
   "execution_count": null,
   "metadata": {},
   "outputs": [
    {
     "name": "stdout",
     "output_type": "stream",
     "text": [
      "n\n"
     ]
    }
   ],
   "source": [
    "sh_obj = wb_obj.active\n",
    "cell_obj = sh_obj.cell(row = 2, column = 4)\n",
    "print(cell_obj.data_type)"
   ]
  },
  {
   "cell_type": "code",
   "execution_count": null,
   "metadata": {},
   "outputs": [
    {
     "data": {
      "text/plain": [
       "391"
      ]
     },
     "execution_count": 88,
     "metadata": {},
     "output_type": "execute_result"
    },
    {
     "data": {
      "text/plain": [
       "5"
      ]
     },
     "execution_count": 88,
     "metadata": {},
     "output_type": "execute_result"
    }
   ],
   "source": [
    "row=sh_obj.max_row\n",
    "row\n",
    "cols=sh_obj.max_column\n",
    "cols"
   ]
  },
  {
   "cell_type": "code",
   "execution_count": null,
   "metadata": {},
   "outputs": [
    {
     "name": "stdout",
     "output_type": "stream",
     "text": [
      "Postcode Sales_Rep_ID Sales_Rep_Name Year Value 2121 456 Jane 2011 84219.49731068664 2092 789 Ashish 2012 28322.19226785212 2128 456 Jane 2013 81878.99724144173 2073 123 John 2011 44491.14212108646 2134 789 Ashish 2012 71837.72095918981 2162 123 John 2013 64531.54925397023 2093 456 Jane 2011 58962.63983184494 2042 789 Ashish 2012 27521.79196429043 2198 123 John 2013 77985.12610115489 2043 789 Ashish 2011 49546.12331653857 2025 789 Ashish 2012 17733.774599635875 2045 456 Jane 2013 91125.99592305641 2090 456 Jane 2011 48112.76477907527 2114 456 Jane 2012 28361.33839080076 2142 456 Jane 2013 50911.55490474597 2062 123 John 2011 75538.86974090135 2049 456 Jane 2012 96922.32834472919 2204 456 Jane 2013 57838.17502367252 2000 456 Jane 2011 4529.748563633329 2135 123 John 2012 27761.119322440096 2115 456 Jane 2013 22772.69837788588 2032 789 Ashish 2011 98780.16287428583 2068 456 Jane 2012 66043.70235587473 2119 789 Ashish 2013 32882.27483888877 2060 456 Jane 2011 75822.40661707098 2072 456 Jane 2012 36675.400390808165 2045 123 John 2013 95816.70288678876 2140 456 Jane 2011 43627.20041202999 2205 789 Ashish 2012 93306.11989240753 2060 123 John 2013 71321.53195158085 2042 456 Jane 2011 92022.6562234589 2118 123 John 2012 40654.84119298064 2137 789 Ashish 2013 95517.97968746317 2021 789 Ashish 2011 24550.372817471634 2044 123 John 2012 65165.63257541488 2008 789 Ashish 2013 52575.68264705236 2142 789 Ashish 2011 2355.6015708139143 2027 456 Jane 2012 11444.418217618491 2110 456 Jane 2013 30569.124856117814 2137 123 John 2011 83085.26414290175 2164 789 Ashish 2012 82490.3282073096 2067 789 Ashish 2013 23819.26749380253 2100 123 John 2011 60571.092290026616 2032 456 Jane 2012 81537.51041572585 2038 789 Ashish 2013 51840.472873702245 2011 123 John 2011 8501.937286034077 2143 789 Ashish 2012 41609.57882619351 2170 456 Jane 2013 10062.749354246325 2049 789 Ashish 2011 87702.15393313405 2086 456 Jane 2012 99436.42409836838 2032 123 John 2013 88957.41555757391 2203 123 John 2011 18845.79969887633 2198 456 Jane 2012 70963.43308910955 2112 456 Jane 2013 45570.89638296131 2052 456 Jane 2011 12148.011126511827 2133 456 Jane 2012 30271.678866607366 2164 456 Jane 2013 62744.46427471015 2087 789 Ashish 2011 106.36059923672114 2065 456 Jane 2012 30814.616270255603 2008 456 Jane 2013 89093.23263037669 2137 456 Jane 2011 22747.961623187053 2162 456 Jane 2012 8396.165401437649 2016 789 Ashish 2013 64710.8913038975 2099 789 Ashish 2011 25131.04047149558 2040 456 Jane 2012 79000.9855093238 2034 789 Ashish 2013 32183.53011658488 2044 789 Ashish 2011 72567.41536511248 2190 789 Ashish 2012 18507.612866205625 2205 123 John 2013 69530.67498224777 2006 123 John 2011 63821.532395840586 2190 456 Jane 2012 80225.2515555803 2132 789 Ashish 2013 33048.10209169636 2147 123 John 2011 36420.78485879502 2006 789 Ashish 2012 73725.4668597416 2062 456 Jane 2013 30811.273740655564 2134 123 John 2011 33404.1760799062 2110 789 Ashish 2012 60876.16054487952 2165 789 Ashish 2013 37753.5923529457 2009 123 John 2011 22852.59283123812 2195 789 Ashish 2012 5535.120792769144 2029 123 John 2013 42456.15871400993 2199 123 John 2011 91203.86817902514 2068 123 John 2012 3037.8280775409717 2009 456 Jane 2013 85746.83696560054 2043 456 Jane 2011 81012.6448839886 2046 456 Jane 2012 6258.725997976222 2050 456 Jane 2013 80519.2459627718 2047 789 Ashish 2011 79289.63613260546 2114 123 John 2012 69906.09365473947 2041 789 Ashish 2013 57233.0455837431 2023 456 Jane 2011 77797.6319784006 2094 456 Jane 2012 42384.02601860503 2022 123 John 2013 39846.843322659166 2026 456 Jane 2011 36794.362282293594 2007 123 John 2012 10189.734579916543 2064 456 Jane 2013 52484.354053693016 2023 123 John 2011 12962.72756695278 2125 789 Ashish 2012 79116.22323854174 2070 123 John 2013 16574.309480741656 2092 456 Jane 2011 27554.227014500222 2040 789 Ashish 2012 37596.89537903183 2096 123 John 2013 59561.96696864258 2123 456 Jane 2011 59035.39854371307 2200 456 Jane 2012 36867.5805464771 2099 456 Jane 2013 1839.2716659866637 2166 456 Jane 2011 97072.38171596124 2160 123 John 2012 16913.651171743495 2048 456 Jane 2013 49052.82970883602 2030 123 John 2011 19846.88399100577 2093 789 Ashish 2012 33781.36737453691 2127 456 Jane 2013 18870.257553301217 2160 456 Jane 2011 68070.83899154798 2119 456 Jane 2012 51034.178948263376 2088 456 Jane 2013 64900.63894895288 2029 789 Ashish 2011 47447.73659812535 2038 456 Jane 2012 16708.10319693009 2046 789 Ashish 2013 63444.12431650334 2070 789 Ashish 2011 62105.74029123248 2089 123 John 2012 9348.405638422131 2139 123 John 2013 2676.235212432987 2117 789 Ashish 2011 12347.61414685932 2109 123 John 2012 95787.28065217784 2141 456 Jane 2013 28464.94089901067 2115 789 Ashish 2011 28357.643769795228 2196 123 John 2012 66107.22085753329 2093 123 John 2013 69062.21217578331 2129 789 Ashish 2011 9997.426571521195 2068 789 Ashish 2012 13716.291588349293 2136 456 Jane 2013 8606.769614370469 2113 123 John 2011 31429.99916874445 2195 123 John 2012 74718.73834751977 2134 456 Jane 2013 28813.604718758168 2194 789 Ashish 2011 11588.850837528153 2017 456 Jane 2012 15791.91374115001 2122 789 Ashish 2013 62984.25356207141 2066 456 Jane 2011 12902.062255146995 2203 789 Ashish 2012 68656.95931110509 2150 789 Ashish 2013 44106.483044701105 2121 789 Ashish 2011 5490.696360368419 2142 123 John 2012 78419.44994761361 2117 456 Jane 2013 4380.462819641262 2096 456 Jane 2011 70422.38497000637 2162 789 Ashish 2012 18158.745169784484 2041 456 Jane 2013 11742.648585472693 2127 123 John 2011 11934.393831965184 2128 789 Ashish 2012 95799.18986627868 2034 456 Jane 2013 36756.00973837526 2166 789 Ashish 2011 47446.99090138717 2133 123 John 2012 41256.42162793542 2170 789 Ashish 2013 2676.1971061516565 2135 456 Jane 2011 94181.76491292236 2116 123 John 2012 49807.61783859613 2144 123 John 2013 22950.236571110305 2144 456 Jane 2011 54905.61136130048 2133 789 Ashish 2012 14908.859473425473 2034 123 John 2013 46114.78808442759 2112 123 John 2011 81700.65400132297 2143 123 John 2012 37556.347991356844 2203 456 Jane 2013 85515.93506185214 2111 123 John 2011 31843.909769082224 2037 456 Jane 2012 49010.42352189445 2018 456 Jane 2013 19506.389283742476 2145 123 John 2011 42691.190100719075 2100 456 Jane 2012 28370.053628432914 2041 123 John 2013 26093.57086307136 2129 456 Jane 2011 48260.12316159276 2197 789 Ashish 2012 95119.04408573666 2060 789 Ashish 2013 53020.162934792 2198 789 Ashish 2011 10618.600611133534 2191 789 Ashish 2012 59382.06154983862 2047 123 John 2013 1125.8001132970596 2010 123 John 2011 40301.19156029879 2146 789 Ashish 2012 43403.37790625525 2143 456 Jane 2013 74226.01246644103 2206 789 Ashish 2011 1425.1195353387259 2071 123 John 2012 5591.722252258813 2095 123 John 2013 55937.30007708344 2024 123 John 2011 12638.14459949577 2146 123 John 2012 98510.59024280483 2110 123 John 2013 73319.16633859805 2044 456 Jane 2011 59482.58626097131 2165 456 Jane 2012 45309.261094337904 2039 789 Ashish 2013 71497.7217434384 2140 789 Ashish 2011 32218.25355163338 2122 456 Jane 2012 81654.54516152263 2152 123 John 2013 34022.98807074091 2096 789 Ashish 2011 9781.568730507994 2031 789 Ashish 2012 96342.98753318204 2011 456 Jane 2013 73529.08031683796 2094 123 John 2011 90268.04646548402 2111 456 Jane 2012 51309.63165296613 2123 123 John 2013 45922.50867401581 2015 123 John 2011 19273.59376734802 2199 456 Jane 2012 89796.77785033338 2025 123 John 2013 52643.36563519786 2028 123 John 2011 39758.95861206673 2025 456 Jane 2012 82466.09413567971 2197 456 Jane 2013 21515.006097932153 2151 789 Ashish 2011 76683.53465770575 2007 789 Ashish 2012 18008.01187517437 2015 789 Ashish 2013 22373.581349935277 2024 789 Ashish 2011 69425.03633971827 2017 123 John 2012 47308.50871550073 2050 789 Ashish 2013 54725.73752982468 2160 789 Ashish 2011 35361.14088349951 2030 456 Jane 2012 87640.14086368903 2153 123 John 2013 95989.72758672955 2150 123 John 2011 95859.97603400663 2151 123 John 2012 20564.361378384576 2045 789 Ashish 2013 429.35642483590277 2027 789 Ashish 2011 15532.78012789937 2010 456 Jane 2012 35901.22441375385 2132 123 John 2013 54434.686053562466 2052 123 John 2011 33362.604382461046 2088 789 Ashish 2012 10350.328402267094 2095 456 Jane 2013 29958.544115453922 2016 123 John 2011 218.99094378275973 2071 456 Jane 2012 68776.1596131029 2138 789 Ashish 2013 33064.35427113633 2049 123 John 2011 89721.31516009287 2090 789 Ashish 2012 89378.58131844555 2021 456 Jane 2013 64327.66206611357 2039 123 John 2011 25194.856894380548 2031 456 Jane 2012 67430.83288031114 2016 456 Jane 2013 46974.92622208812 2029 456 Jane 2011 92117.64685125166 2040 123 John 2012 91203.55763617945 2061 456 Jane 2013 85199.71157667149 2191 456 Jane 2011 18626.832225590028 2052 789 Ashish 2012 52173.1177241809 2129 123 John 2013 23168.913146929237 2152 789 Ashish 2011 12454.761273136506 2161 789 Ashish 2012 87956.7828324401 2090 123 John 2013 41927.9606066534 2153 789 Ashish 2011 92727.54274334067 2109 789 Ashish 2012 42204.82336036864 2018 123 John 2013 36658.77959990044 2091 456 Jane 2011 34478.74049440451 2199 789 Ashish 2012 25315.460936383548 2000 789 Ashish 2013 83705.8221285515 2204 789 Ashish 2011 99743.83114915698 2043 123 John 2012 63982.425650802645 2073 789 Ashish 2013 34375.95610590796 2121 123 John 2011 54646.99618619132 2028 456 Jane 2012 62273.347238831266 2147 789 Ashish 2013 23527.97322289736 2037 123 John 2011 13587.794772950334 2028 789 Ashish 2012 31934.828348412815 2128 123 John 2013 38554.16030319362 2063 789 Ashish 2011 15321.640221102862 2115 123 John 2012 8071.888705740982 2192 456 Jane 2013 56303.46388417899 2048 789 Ashish 2011 99878.48920854433 2094 789 Ashish 2012 20724.01527183706 2118 789 Ashish 2013 42536.16041965423 2166 123 John 2011 81440.12669815867 2144 789 Ashish 2012 34311.550425515525 2163 789 Ashish 2013 58998.371642597056 2195 456 Jane 2011 22991.41364789751 2141 789 Ashish 2012 87834.71666825442 2114 789 Ashish 2013 68606.14355378656 2000 123 John 2011 29852.49453670984 2200 789 Ashish 2012 12875.759802125342 2138 456 Jane 2013 90142.1017793189 2066 123 John 2011 82466.97449719846 2008 123 John 2012 26125.316839948464 2022 789 Ashish 2013 98199.93399223124 2048 123 John 2011 87566.65877408146 2061 789 Ashish 2012 31229.617607541528 2193 123 John 2013 79937.63013262182 2113 789 Ashish 2011 70309.54815949994 2131 123 John 2012 35669.7868815247 2010 789 Ashish 2013 95019.35766241468 2015 456 Jane 2011 79888.06067458939 2116 789 Ashish 2012 46537.45889675789 2069 456 Jane 2013 69285.42221153015 2112 789 Ashish 2011 75681.73782899589 2033 456 Jane 2012 39497.31948219559 2064 123 John 2013 27992.32256873778 2161 123 John 2011 41023.202205164846 2190 123 John 2012 63169.826009810604 2007 456 Jane 2013 2299.4875569626647 2163 456 Jane 2011 10715.216287729401 2153 456 Jane 2012 17557.085912025184 2092 123 John 2013 28856.189867976067 2039 456 Jane 2011 55997.71034430137 2086 789 Ashish 2012 34227.703654790144 2204 123 John 2013 19758.961798385953 2047 456 Jane 2011 99865.21157191237 2206 123 John 2012 37001.90606642551 2009 789 Ashish 2013 86506.42432710016 2197 123 John 2011 64203.065100834436 2062 789 Ashish 2012 95385.9498904025 2206 456 Jane 2013 53130.24685901937 2119 123 John 2011 5597.4057440128845 2017 789 Ashish 2012 86748.69984840343 2132 456 Jane 2013 80783.34376108102 2066 789 Ashish 2011 65529.831818781844 2072 789 Ashish 2012 29271.216020855805 2088 123 John 2013 67071.58475075418 2196 456 Jane 2011 53379.377304386464 2163 123 John 2012 62579.197113061506 2006 456 Jane 2013 24772.925568189254 2030 789 Ashish 2011 19129.77324881757 2087 456 Jane 2012 72140.5715811411 2089 456 Jane 2013 67958.1527573605 2196 789 Ashish 2011 60643.71866915956 2138 123 John 2012 61284.72661847393 2139 456 Jane 2013 91989.48233151204 2194 456 Jane 2011 60771.1536100609 2086 123 John 2012 26037.645734014724 2122 123 John 2013 13474.81411608531 2038 123 John 2011 82932.22836949522 2061 123 John 2012 40689.83945119847 2170 123 John 2013 36190.434716837415 2135 789 Ashish 2011 46688.95604353774 2131 789 Ashish 2012 30040.11462692403 2091 123 John 2013 57249.67547077976 2042 123 John 2011 38291.8733745921 2205 456 Jane 2012 10553.573617395406 2150 456 Jane 2013 73270.08470351294 2070 456 Jane 2011 58037.66063332035 2067 456 Jane 2012 42027.34567350953 2130 123 John 2013 1512.850621066708 2091 789 Ashish 2011 32609.62120355909 2021 123 John 2012 16079.89375898048 2063 123 John 2013 52398.021721194076 2131 456 Jane 2011 66041.27160075051 2117 123 John 2012 45504.44034231037 2100 789 Ashish 2013 55364.50939069053 2147 456 Jane 2011 81415.05919177989 2161 456 Jane 2012 59929.42456408565 2095 789 Ashish 2013 48057.96706829043 2139 789 Ashish 2011 63168.250056750774 2123 789 Ashish 2012 68917.02828039227 2064 789 Ashish 2013 27359.912920568717 2125 456 Jane 2011 98235.47271052479 2152 456 Jane 2012 31708.50226296036 2111 789 Ashish 2013 39710.87430871628 2046 123 John 2011 73977.53434025327 2113 456 Jane 2012 40581.435495722864 2200 123 John 2013 58857.77935538857 2027 123 John 2011 17271.394130486893 2191 123 John 2012 7711.3254224980055 2165 123 John 2013 11815.358682802656 2050 123 John 2011 55590.756564829215 2065 789 Ashish 2012 83495.39844662749 2023 789 Ashish 2013 71675.96949792664 2069 789 Ashish 2011 42792.28346926198 2069 123 John 2012 44478.4105517881 2151 456 Jane 2013 71534.55522216558 2146 456 Jane 2011 1255.2468378404958 2037 789 Ashish 2012 41511.88187414746 2145 789 Ashish 2013 56897.92473176871 2145 456 Jane 2011 72323.54361722396 2071 789 Ashish 2012 80893.01164393935 2192 123 John 2013 11247.794614304741 2140 123 John 2011 89201.68234033289 2026 789 Ashish 2012 37880.63318290011 2033 123 John 2013 87068.0536091963 2099 123 John 2011 82289.52160730121 2125 123 John 2012 35987.13065055722 2089 789 Ashish 2013 89068.92559781786 2136 123 John 2011 83058.67323193389 2022 456 Jane 2012 1246.1057659527207 2067 123 John 2013 57862.68741039768 2127 789 Ashish 2011 70493.89254308912 2118 456 Jane 2012 13243.311492220055 2065 123 John 2013 88484.9756047204 2193 789 Ashish 2011 82687.12234553466 2073 456 Jane 2012 3158.191319284187 2026 123 John 2013 55338.70231169718 2011 789 Ashish 2011 43355.92323548884 2087 123 John 2012 9482.659707366804 2024 456 Jane 2013 43002.16347172243 2192 789 Ashish 2011 24077.818786512362 2109 456 Jane 2012 45718.95950327928 2130 789 Ashish 2013 51693.36071748243 2194 123 John 2011 66864.30686799326 2141 123 John 2012 54682.86883137869 2136 789 Ashish 2013 881.7743814025225 2033 789 Ashish 2011 76990.36580136044 2072 123 John 2012 35366.490143699404 2063 456 Jane 2013 93341.16448739836 2018 789 Ashish 2011 97167.78450655767 2164 123 John 2012 88884.53521681932 2193 456 Jane 2013 79440.29081256082 2031 123 John 2011 65643.68945365607 2130 456 Jane 2012 66247.87486872105 2116 456 Jane 2013 3195.699054497647 "
     ]
    }
   ],
   "source": [
    "for i in  range(1,row+1):\n",
    "    for j in range(1,cols+1):\n",
    "        cell_obj = sh_obj.cell(row = i, column = j)\n",
    "        print(cell_obj.value, end=\" \")"
   ]
  },
  {
   "cell_type": "code",
   "execution_count": null,
   "metadata": {},
   "outputs": [
    {
     "name": "stdout",
     "output_type": "stream",
     "text": [
      "{\n",
      "  \"row_1\": {\n",
      "    \"Postcode\": \"2121\",\n",
      "    \"Sales_Rep_ID\": 456,\n",
      "    \"Sales_Rep_Name\": \"Jane\",\n",
      "    \"Year\": 2011,\n",
      "    \"Value\": 84219.49731068664\n",
      "  },\n",
      "  \"row_2\": {\n",
      "    \"Postcode\": \"2092\",\n",
      "    \"Sales_Rep_ID\": 789,\n",
      "    \"Sales_Rep_Name\": \"Ashish\",\n",
      "    \"Year\": 2012,\n",
      "    \"Value\": 28322.19226785212\n",
      "  },\n",
      "  \"row_3\": {\n",
      "    \"Postcode\": \"2128\",\n",
      "    \"Sales_Rep_ID\": 456,\n",
      "    \"Sales_Rep_Name\": \"Jane\",\n",
      "    \"Year\": 2013,\n",
      "    \"Value\": 81878.99724144173\n",
      "  },\n",
      "  \"row_4\": {\n",
      "    \"Postcode\": \"2073\",\n",
      "    \"Sales_Rep_ID\": 123,\n",
      "    \"Sales_Rep_Name\": \"John\",\n",
      "    \"Year\": 2011,\n",
      "    \"Value\": 44491.14212108646\n",
      "  },\n",
      "  \"row_5\": {\n",
      "    \"Postcode\": \"2134\",\n",
      "    \"Sales_Rep_ID\": 789,\n",
      "    \"Sales_Rep_Name\": \"Ashish\",\n",
      "    \"Year\": 2012,\n",
      "    \"Value\": 71837.72095918981\n",
      "  },\n",
      "  \"row_6\": {\n",
      "    \"Postcode\": \"2162\",\n",
      "    \"Sales_Rep_ID\": 123,\n",
      "    \"Sales_Rep_Name\": \"John\",\n",
      "    \"Year\": 2013,\n",
      "    \"Value\": 64531.54925397023\n",
      "  },\n",
      "  \"row_7\": {\n",
      "    \"Postcode\": \"2093\",\n",
      "    \"Sales_Rep_ID\": 456,\n",
      "    \"Sales_Rep_Name\": \"Jane\",\n",
      "    \"Year\": 2011,\n",
      "    \"Value\": 58962.63983184494\n",
      "  },\n",
      "  \"row_8\": {\n",
      "    \"Postcode\": \"2042\",\n",
      "    \"Sales_Rep_ID\": 789,\n",
      "    \"Sales_Rep_Name\": \"Ashish\",\n",
      "    \"Year\": 2012,\n",
      "    \"Value\": 27521.79196429043\n",
      "  },\n",
      "  \"row_9\": {\n",
      "    \"Postcode\": \"2198\",\n",
      "    \"Sales_Rep_ID\": 123,\n",
      "    \"Sales_Rep_Name\": \"John\",\n",
      "    \"Year\": 2013,\n",
      "    \"Value\": 77985.12610115489\n",
      "  },\n",
      "  \"row_10\": {\n",
      "    \"Postcode\": \"2043\",\n",
      "    \"Sales_Rep_ID\": 789,\n",
      "    \"Sales_Rep_Name\": \"Ashish\",\n",
      "    \"Year\": 2011,\n",
      "    \"Value\": 49546.12331653857\n",
      "  }\n",
      "}\n"
     ]
    }
   ],
   "source": [
    "headers = [cell.value for cell in sh_obj[1]]\n",
    "\n",
    "# Create dictionary for first 10 rows\n",
    "data_dict = {}\n",
    "for row in range(2, 12):  # rows 2-11 (first 10 data rows)\n",
    "    row_data = [cell.value for cell in sh_obj[row]]\n",
    "    data_dict[f\"row_{row-1}\"] = dict(zip(headers, row_data))\n",
    "\n",
    "# Print the dictionary\n",
    "import json\n",
    "print(json.dumps(data_dict, indent=2))\n"
   ]
  },
  {
   "cell_type": "code",
   "execution_count": 37,
   "metadata": {},
   "outputs": [],
   "source": [
    "from openpyxl import Workbook\n",
    "\n",
    "wb=Workbook()\n",
    "sh=wb.active\n",
    "sh['A1']='10'\n",
    "sh['A2']='20'\n",
    "sh['B1']='=A1+A2'\n",
    "wb.save('sample2.xlsx')\n"
   ]
  },
  {
   "cell_type": "code",
   "execution_count": 41,
   "metadata": {},
   "outputs": [
    {
     "name": "stdout",
     "output_type": "stream",
     "text": [
      "student(name='Ankur', age=23, marks=90) student(name='Ankur', age=23, marks=90)\n"
     ]
    }
   ],
   "source": [
    "from collections import namedtuple\n",
    "student = namedtuple('student', ['name', 'age', 'marks'])\n",
    "s=student('Ankur', 23, 90)\n",
    "s2=student('Ankur', 23, 90)\n",
    "print(s,s2)"
   ]
  },
  {
   "cell_type": "code",
   "execution_count": null,
   "metadata": {},
   "outputs": [],
   "source": []
  }
 ],
 "metadata": {
  "kernelspec": {
   "display_name": "Python 3",
   "language": "python",
   "name": "python3"
  },
  "language_info": {
   "codemirror_mode": {
    "name": "ipython",
    "version": 3
   },
   "file_extension": ".py",
   "mimetype": "text/x-python",
   "name": "python",
   "nbconvert_exporter": "python",
   "pygments_lexer": "ipython3",
   "version": "3.11.4"
  }
 },
 "nbformat": 4,
 "nbformat_minor": 2
}
